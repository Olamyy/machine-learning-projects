{
 "cells": [
  {
   "cell_type": "code",
   "execution_count": null,
   "metadata": {
    "collapsed": false
   },
   "outputs": [],
   "source": [
    "import pandas\n",
    "import numpy\n",
    "import math"
   ]
  },
  {
   "cell_type": "code",
   "execution_count": null,
   "metadata": {
    "collapsed": true
   },
   "outputs": [],
   "source": [
    "dataframe = pandas.read_csv('Prostate_Cancer.csv')"
   ]
  },
  {
   "cell_type": "code",
   "execution_count": 231,
   "metadata": {
    "collapsed": false
   },
   "outputs": [
    {
     "name": "stdout",
     "output_type": "stream",
     "text": [
      "distances\n",
      "[ 1.1         1.          1.          1.00498756]\n",
      "[ 1.1         1.          1.          1.00498756]\n",
      "sorted distances\n",
      "[1.0, 1.0, 1.004987562112089, 1.1000000000000001]\n"
     ]
    },
    {
     "data": {
      "text/plain": [
       "[('A', 1)]"
      ]
     },
     "execution_count": 231,
     "metadata": {},
     "output_type": "execute_result"
    }
   ],
   "source": [
    "class KNN():\n",
    "    def __init__(self,training_data, dataset, labels, k=None):\n",
    "        self.training_data = training_data\n",
    "        self.dataset = dataset\n",
    "        self.labels = labels\n",
    "        self.k = k if k else 3\n",
    "        \n",
    "    def classify(self):\n",
    "        euclidean_distance = self.find_euclidean_distance()\n",
    "        print(euclidean_distance)\n",
    "        sort_distance = sorted(euclidean_distance)\n",
    "        print('sorted distances')\n",
    "        print(sort_distance)\n",
    "        classCount={}          \n",
    "        for i in range(self.k):\n",
    "            voteIlabel =  self.labels[int(sort_distance[i])]\n",
    "            classCount[voteIlabel] = classCount.get(voteIlabel,0) + 1\n",
    "            sortedClassCount = sorted(classCount.items(), key=operator.itemgetter(1), reverse=True)\n",
    "            return sortedClassCount\n",
    "\n",
    "        \n",
    "    def get_k(self):\n",
    "        return math.sqrt(len(self.training_data))\n",
    "    \n",
    "    def find_euclidean_distance(self):\n",
    "        data_size = self.dataset.shape[0]\n",
    "        differences = numpy.tile(self.training_data, (data_size, 1)) - self.dataset\n",
    "        euclidean_product = differences ** 2\n",
    "        euclidean_sum = euclidean_product.sum(axis=1)\n",
    "        distance = euclidean_sum ** 0.5\n",
    "        print('distances')\n",
    "        print(distance)\n",
    "        return distance\n",
    "    \n",
    "\n",
    "a = KNN(training_data=[1, 0], dataset=numpy.array([[1.0,1.1],[1.0,1.0],[0,0],[0,0.1]]), labels=['A','A','B','B'])\n",
    "b = a.classify()\n",
    "\n",
    "b\n",
    "\n",
    "    "
   ]
  },
  {
   "cell_type": "code",
   "execution_count": 228,
   "metadata": {
    "collapsed": false
   },
   "outputs": [
    {
     "name": "stdout",
     "output_type": "stream",
     "text": [
      "distances\n",
      "[ 1.1         1.          1.          1.00498756]\n",
      "sorted distances\n",
      "[1 2 3 0]\n"
     ]
    },
    {
     "data": {
      "text/plain": [
       "'A'"
      ]
     },
     "execution_count": 228,
     "metadata": {},
     "output_type": "execute_result"
    }
   ],
   "source": [
    "import operator\n",
    "def classify0(inX, dataSet, labels, k):\n",
    "    dataSetSize = dataSet.shape[0]\n",
    "    diffMat = numpy.tile(inX, (dataSetSize,1)) - dataSet\n",
    "    sqDiffMat = diffMat**2\n",
    "    sqDistances = sqDiffMat.sum(axis=1)\n",
    "    distances = sqDistances**0.5\n",
    "    print('distances')\n",
    "    print(distances)\n",
    "    sortedDistIndicies = distances.argsort()    \n",
    "    print('sorted distances')\n",
    "    print(sortedDistIndicies)\n",
    "    classCount={}          \n",
    "    for i in range(k):\n",
    "        voteIlabel = labels[sortedDistIndicies[i]]\n",
    "        classCount[voteIlabel] = classCount.get(voteIlabel,0) + 1\n",
    "    sortedClassCount = sorted(classCount.items(), key=operator.itemgetter(1), reverse=True)\n",
    "    return sortedClassCount[0][0]\n",
    "\n",
    "classify0([1, 0], dataSet=numpy.array([[1.0,1.1],[1.0,1.0],[0,0],[0,0.1]]), labels=['A','A','B','B'], k=2)"
   ]
  },
  {
   "cell_type": "code",
   "execution_count": 232,
   "metadata": {
    "collapsed": false
   },
   "outputs": [
    {
     "name": "stdout",
     "output_type": "stream",
     "text": [
      "Help on function argsort in module numpy.core.fromnumeric:\n",
      "\n",
      "argsort(a, axis=-1, kind='quicksort', order=None)\n",
      "    Returns the indices that would sort an array.\n",
      "    \n",
      "    Perform an indirect sort along the given axis using the algorithm specified\n",
      "    by the `kind` keyword. It returns an array of indices of the same shape as\n",
      "    `a` that index data along the given axis in sorted order.\n",
      "    \n",
      "    Parameters\n",
      "    ----------\n",
      "    a : array_like\n",
      "        Array to sort.\n",
      "    axis : int or None, optional\n",
      "        Axis along which to sort.  The default is -1 (the last axis). If None,\n",
      "        the flattened array is used.\n",
      "    kind : {'quicksort', 'mergesort', 'heapsort'}, optional\n",
      "        Sorting algorithm.\n",
      "    order : str or list of str, optional\n",
      "        When `a` is an array with fields defined, this argument specifies\n",
      "        which fields to compare first, second, etc.  A single field can\n",
      "        be specified as a string, and not all fields need be specified,\n",
      "        but unspecified fields will still be used, in the order in which\n",
      "        they come up in the dtype, to break ties.\n",
      "    \n",
      "    Returns\n",
      "    -------\n",
      "    index_array : ndarray, int\n",
      "        Array of indices that sort `a` along the specified axis.\n",
      "        If `a` is one-dimensional, ``a[index_array]`` yields a sorted `a`.\n",
      "    \n",
      "    See Also\n",
      "    --------\n",
      "    sort : Describes sorting algorithms used.\n",
      "    lexsort : Indirect stable sort with multiple keys.\n",
      "    ndarray.sort : Inplace sort.\n",
      "    argpartition : Indirect partial sort.\n",
      "    \n",
      "    Notes\n",
      "    -----\n",
      "    See `sort` for notes on the different sorting algorithms.\n",
      "    \n",
      "    As of NumPy 1.4.0 `argsort` works with real/complex arrays containing\n",
      "    nan values. The enhanced sort order is documented in `sort`.\n",
      "    \n",
      "    Examples\n",
      "    --------\n",
      "    One dimensional array:\n",
      "    \n",
      "    >>> x = np.array([3, 1, 2])\n",
      "    >>> np.argsort(x)\n",
      "    array([1, 2, 0])\n",
      "    \n",
      "    Two-dimensional array:\n",
      "    \n",
      "    >>> x = np.array([[0, 3], [2, 2]])\n",
      "    >>> x\n",
      "    array([[0, 3],\n",
      "           [2, 2]])\n",
      "    \n",
      "    >>> np.argsort(x, axis=0)\n",
      "    array([[0, 1],\n",
      "           [1, 0]])\n",
      "    \n",
      "    >>> np.argsort(x, axis=1)\n",
      "    array([[0, 1],\n",
      "           [0, 1]])\n",
      "    \n",
      "    Sorting with keys:\n",
      "    \n",
      "    >>> x = np.array([(1, 0), (0, 1)], dtype=[('x', '<i4'), ('y', '<i4')])\n",
      "    >>> x\n",
      "    array([(1, 0), (0, 1)],\n",
      "          dtype=[('x', '<i4'), ('y', '<i4')])\n",
      "    \n",
      "    >>> np.argsort(x, order=('x','y'))\n",
      "    array([1, 0])\n",
      "    \n",
      "    >>> np.argsort(x, order=('y','x'))\n",
      "    array([0, 1])\n",
      "\n"
     ]
    }
   ],
   "source": [
    "help(numpy.argsort)"
   ]
  },
  {
   "cell_type": "code",
   "execution_count": null,
   "metadata": {
    "collapsed": true
   },
   "outputs": [],
   "source": []
  },
  {
   "cell_type": "code",
   "execution_count": null,
   "metadata": {
    "collapsed": true
   },
   "outputs": [],
   "source": []
  },
  {
   "cell_type": "code",
   "execution_count": null,
   "metadata": {
    "collapsed": true
   },
   "outputs": [],
   "source": []
  },
  {
   "cell_type": "code",
   "execution_count": null,
   "metadata": {
    "collapsed": true
   },
   "outputs": [],
   "source": []
  },
  {
   "cell_type": "code",
   "execution_count": null,
   "metadata": {
    "collapsed": true
   },
   "outputs": [],
   "source": []
  },
  {
   "cell_type": "code",
   "execution_count": null,
   "metadata": {
    "collapsed": true
   },
   "outputs": [],
   "source": []
  },
  {
   "cell_type": "code",
   "execution_count": null,
   "metadata": {
    "collapsed": false,
    "scrolled": true
   },
   "outputs": [],
   "source": []
  },
  {
   "cell_type": "code",
   "execution_count": null,
   "metadata": {
    "collapsed": true
   },
   "outputs": [],
   "source": []
  },
  {
   "cell_type": "code",
   "execution_count": null,
   "metadata": {
    "collapsed": true
   },
   "outputs": [],
   "source": []
  },
  {
   "cell_type": "code",
   "execution_count": null,
   "metadata": {
    "collapsed": true
   },
   "outputs": [],
   "source": []
  },
  {
   "cell_type": "code",
   "execution_count": null,
   "metadata": {
    "collapsed": true
   },
   "outputs": [],
   "source": []
  },
  {
   "cell_type": "code",
   "execution_count": null,
   "metadata": {
    "collapsed": true
   },
   "outputs": [],
   "source": []
  },
  {
   "cell_type": "code",
   "execution_count": null,
   "metadata": {
    "collapsed": true
   },
   "outputs": [],
   "source": []
  },
  {
   "cell_type": "code",
   "execution_count": null,
   "metadata": {
    "collapsed": false
   },
   "outputs": [],
   "source": [
    "\n"
   ]
  },
  {
   "cell_type": "code",
   "execution_count": null,
   "metadata": {
    "collapsed": true
   },
   "outputs": [],
   "source": []
  },
  {
   "cell_type": "code",
   "execution_count": null,
   "metadata": {
    "collapsed": true
   },
   "outputs": [],
   "source": []
  },
  {
   "cell_type": "code",
   "execution_count": null,
   "metadata": {
    "collapsed": false
   },
   "outputs": [],
   "source": []
  },
  {
   "cell_type": "code",
   "execution_count": null,
   "metadata": {
    "collapsed": false
   },
   "outputs": [],
   "source": []
  },
  {
   "cell_type": "code",
   "execution_count": null,
   "metadata": {
    "collapsed": true
   },
   "outputs": [],
   "source": []
  },
  {
   "cell_type": "code",
   "execution_count": null,
   "metadata": {
    "collapsed": false
   },
   "outputs": [],
   "source": []
  },
  {
   "cell_type": "code",
   "execution_count": null,
   "metadata": {
    "collapsed": false
   },
   "outputs": [],
   "source": []
  },
  {
   "cell_type": "code",
   "execution_count": null,
   "metadata": {
    "collapsed": true
   },
   "outputs": [],
   "source": []
  },
  {
   "cell_type": "code",
   "execution_count": null,
   "metadata": {
    "collapsed": true
   },
   "outputs": [],
   "source": []
  },
  {
   "cell_type": "code",
   "execution_count": null,
   "metadata": {
    "collapsed": true
   },
   "outputs": [],
   "source": [
    "from sklearn.neighbors import KNeighborsClassifier"
   ]
  },
  {
   "cell_type": "code",
   "execution_count": null,
   "metadata": {
    "collapsed": false
   },
   "outputs": [],
   "source": [
    "help(KNeighborsClassifier)"
   ]
  },
  {
   "cell_type": "code",
   "execution_count": null,
   "metadata": {
    "collapsed": false
   },
   "outputs": [],
   "source": []
  },
  {
   "cell_type": "code",
   "execution_count": null,
   "metadata": {
    "collapsed": false
   },
   "outputs": [],
   "source": []
  }
 ],
 "metadata": {
  "kernelspec": {
   "display_name": "Python 3",
   "language": "python",
   "name": "python3"
  },
  "language_info": {
   "codemirror_mode": {
    "name": "ipython",
    "version": 3
   },
   "file_extension": ".py",
   "mimetype": "text/x-python",
   "name": "python",
   "nbconvert_exporter": "python",
   "pygments_lexer": "ipython3",
   "version": "3.5.2"
  }
 },
 "nbformat": 4,
 "nbformat_minor": 2
}
